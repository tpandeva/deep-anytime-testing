{
 "cells": [
  {
   "cell_type": "code",
   "execution_count": null,
   "outputs": [],
   "source": [
    "import wandb\n",
    "import time\n",
    "import pickle"
   ],
   "metadata": {
    "collapsed": false,
    "pycharm": {
     "name": "#%%\n"
    }
   }
  },
  {
   "cell_type": "code",
   "execution_count": null,
   "outputs": [],
   "source": [
    "api = wandb.Api()\n",
    "entity, project = \"user-name\", \"Project-name\"\n",
    "runs = api.runs(entity + \"/\" + project)\n",
    "\n",
    "\n",
    "summary_list, name_list = [], []\n",
    "\n",
    "for run in runs:\n",
    "    history=run.scan_history(page_size=100000)\n",
    "    time.sleep(10) \n",
    "    p_vals, e_vals, ons_vals = [],[], []\n",
    "\n",
    "    for row in history:\n",
    "        if row[\"test_e-value\"] is not None: \n",
    "            e_vals.append(row[\"test_e-value\"]) # E-C2ST or DAVT\n",
    "        if row[\"test_tb-ons-value\"] is not None: \n",
    "            ons_vals.append(row[\"test_tb-ons-value\"]) # Seq-IT\n",
    "        if row[\"test_p-value\"] is not None: \n",
    "            p_vals.append(row[\"test_p-value\"]) # S-C2ST\n",
    "\n",
    "    name_list.append(run.config[\"data\"][\"type\"] )# type2, type12, type11\n",
    "    summary_list.append([e_vals, p_vals, ons_vals])\n",
    "   \n",
    "\n",
    "pickle.dump([summary_list, name_list], open(f\"logs/results.pickle\", \"wb\"))"
   ],
   "metadata": {
    "collapsed": false,
    "pycharm": {
     "name": "#%%\n"
    }
   }
  }
 ],
 "metadata": {
  "kernelspec": {
   "display_name": "Python 3 (ipykernel)",
   "language": "python",
   "name": "python3"
  },
  "language_info": {
   "codemirror_mode": {
    "name": "ipython",
    "version": 3
   },
   "file_extension": ".py",
   "mimetype": "text/x-python",
   "name": "python",
   "nbconvert_exporter": "python",
   "pygments_lexer": "ipython3",
   "version": "3.10.12"
  }
 },
 "nbformat": 4,
 "nbformat_minor": 5
}